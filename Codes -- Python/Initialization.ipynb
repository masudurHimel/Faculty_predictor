{
 "cells": [
  {
   "cell_type": "code",
   "execution_count": 22,
   "metadata": {},
   "outputs": [],
   "source": [
    "import pandas as pd\n",
    "import numpy as np\n",
    "import io\n",
    "import matplotlib.pyplot as plt\n",
    "import seaborn as sns\n",
    "import warnings\n",
    "warnings.filterwarnings(\"ignore\")\n",
    "%matplotlib inline\n",
    "sns.set_style('whitegrid')"
   ]
  },
  {
   "cell_type": "code",
   "execution_count": 27,
   "metadata": {},
   "outputs": [
    {
     "data": {
      "text/html": [
       "<div>\n",
       "<style scoped>\n",
       "    .dataframe tbody tr th:only-of-type {\n",
       "        vertical-align: middle;\n",
       "    }\n",
       "\n",
       "    .dataframe tbody tr th {\n",
       "        vertical-align: top;\n",
       "    }\n",
       "\n",
       "    .dataframe thead th {\n",
       "        text-align: right;\n",
       "    }\n",
       "</style>\n",
       "<table border=\"1\" class=\"dataframe\">\n",
       "  <thead>\n",
       "    <tr style=\"text-align: right;\">\n",
       "      <th></th>\n",
       "      <th>Course</th>\n",
       "      <th>Section</th>\n",
       "      <th>Faculty</th>\n",
       "      <th>Time</th>\n",
       "      <th>Room</th>\n",
       "      <th>Seats Available</th>\n",
       "    </tr>\n",
       "  </thead>\n",
       "  <tbody>\n",
       "    <tr>\n",
       "      <th>0</th>\n",
       "      <td>ACT201</td>\n",
       "      <td>1</td>\n",
       "      <td>RNH</td>\n",
       "      <td>MW 01:00 PM - 02:30 PM</td>\n",
       "      <td>NAC201</td>\n",
       "      <td>0</td>\n",
       "    </tr>\n",
       "    <tr>\n",
       "      <th>1</th>\n",
       "      <td>ACT201</td>\n",
       "      <td>2</td>\n",
       "      <td>TsA</td>\n",
       "      <td>MW 08:00 AM - 09:30 AM</td>\n",
       "      <td>NAC311</td>\n",
       "      <td>0</td>\n",
       "    </tr>\n",
       "    <tr>\n",
       "      <th>2</th>\n",
       "      <td>ACT201</td>\n",
       "      <td>3</td>\n",
       "      <td>MdM</td>\n",
       "      <td>MW 02:40 PM - 04:10 PM</td>\n",
       "      <td>NAC201</td>\n",
       "      <td>0</td>\n",
       "    </tr>\n",
       "    <tr>\n",
       "      <th>3</th>\n",
       "      <td>ACT201</td>\n",
       "      <td>4</td>\n",
       "      <td>HHq1</td>\n",
       "      <td>MW 04:20 PM - 05:50 PM</td>\n",
       "      <td>NAC210</td>\n",
       "      <td>0</td>\n",
       "    </tr>\n",
       "    <tr>\n",
       "      <th>4</th>\n",
       "      <td>ACT201</td>\n",
       "      <td>5</td>\n",
       "      <td>ASy</td>\n",
       "      <td>MW 09:40 AM - 11:10 AM</td>\n",
       "      <td>NAC201</td>\n",
       "      <td>0</td>\n",
       "    </tr>\n",
       "  </tbody>\n",
       "</table>\n",
       "</div>"
      ],
      "text/plain": [
       "   Course   Section  Faculty                     Time     Room   \\\n",
       "0  ACT201          1     RNH   MW 01:00 PM - 02:30 PM   NAC201    \n",
       "1  ACT201          2     TsA   MW 08:00 AM - 09:30 AM   NAC311    \n",
       "2  ACT201          3     MdM   MW 02:40 PM - 04:10 PM   NAC201    \n",
       "3  ACT201          4    HHq1   MW 04:20 PM - 05:50 PM   NAC210    \n",
       "4  ACT201          5     ASy   MW 09:40 AM - 11:10 AM   NAC201    \n",
       "\n",
       "   Seats Available  \n",
       "0                0  \n",
       "1                0  \n",
       "2                0  \n",
       "3                0  \n",
       "4                0  "
      ]
     },
     "execution_count": 27,
     "metadata": {},
     "output_type": "execute_result"
    }
   ],
   "source": [
    "training_data = pd.read_csv(\"../Data_in_csv/sample.csv\")\n",
    "training_data.head()"
   ]
  },
  {
   "cell_type": "code",
   "execution_count": null,
   "metadata": {},
   "outputs": [],
   "source": []
  }
 ],
 "metadata": {
  "kernelspec": {
   "display_name": "Python 3",
   "language": "python",
   "name": "python3"
  },
  "language_info": {
   "codemirror_mode": {
    "name": "ipython",
    "version": 3
   },
   "file_extension": ".py",
   "mimetype": "text/x-python",
   "name": "python",
   "nbconvert_exporter": "python",
   "pygments_lexer": "ipython3",
   "version": "3.7.3"
  }
 },
 "nbformat": 4,
 "nbformat_minor": 2
}
